{
 "cells": [
  {
   "cell_type": "markdown",
   "metadata": {},
   "source": [
    "## **Visualization of Neural network Architecture using [netron](https://github.com/lutzroeder/netron.git)**\n",
    "### CMB $\\mathcal{C}^{TT}_{\\ell}$ case"
   ]
  },
  {
   "cell_type": "code",
   "execution_count": 9,
   "metadata": {},
   "outputs": [],
   "source": [
    "#Import packages\n",
    "import pandas as pd\n",
    "import numpy as np\n",
    "import tensorflow as tf\n",
    "from tensorflow import keras\n",
    "from keras import layers\n",
    "from keras.layers.experimental.preprocessing import Normalization\n",
    "from matplotlib import pyplot as plt\n",
    "from tensorflow.keras.optimizers import Adam\n",
    "import math"
   ]
  },
  {
   "cell_type": "markdown",
   "metadata": {},
   "source": [
    "### Read the data (simulated out of [CLASS](https://github.com/lesgourg/class_public) and the [ESA Planck Archival](https://pla.esac.esa.int/#home))"
   ]
  },
  {
   "cell_type": "code",
   "execution_count": 10,
   "metadata": {},
   "outputs": [],
   "source": [
    "#Read the data\n",
    "label = '_FR0_e-6_FRn'\n",
    "planck_df_LCDM = np.genfromtxt('./simulated_data/TT_polarization/ttcls_MoGgrids_noisy_FR0_LCDM.csv', delimiter=',')\n",
    "planck_df_MoG = np.genfromtxt('./simulated_data/TT_polarization/ttcls_MoGgrids_noisy%s.csv'%label, delimiter=',')\n",
    "planck_cls_LCDM = planck_df_LCDM[1:] # get rid of the first column, i.e. multipole moment l\n",
    "planck_cls_MoG = planck_df_MoG[1:]\n",
    "ls = planck_df_LCDM[0]\n",
    "\n",
    "#Add the model class: \n",
    "LCDM_class = np.zeros(len(planck_cls_LCDM))\n",
    "MoG_class = np.ones(len(planck_cls_MoG))\n",
    "\n",
    "#Full arrays (+target):\n",
    "cls_LCDM_class = np.column_stack((planck_cls_LCDM, LCDM_class))\n",
    "cls_MoG_class = np.column_stack((planck_cls_MoG, MoG_class))\n",
    "\n",
    "#Full data set (LCDM + MoG)\n",
    "cls_full_dataset = np.concatenate((planck_cls_LCDM, planck_cls_MoG)) #without the class: x_dataset\n",
    "dataset_class = np.concatenate((LCDM_class, MoG_class)) #only the class: y_dataset\n",
    "cls_full_dataset_class = np.concatenate((cls_LCDM_class, cls_MoG_class)) #with the class: xy_dataset"
   ]
  },
  {
   "cell_type": "code",
   "execution_count": 11,
   "metadata": {},
   "outputs": [
    {
     "data": {
      "text/plain": [
       "<Figure size 800x600 with 0 Axes>"
      ]
     },
     "metadata": {},
     "output_type": "display_data"
    }
   ],
   "source": [
    "#-----------------------------------------------------------------------------------------------------------------------\n",
    "#Dls\n",
    "#-----------------------------------------------------------------------------------------------------------------------\n",
    "# Create a function for converting the C_ls^TT to Dls Tcmb=2.7255\n",
    "def Dls(l,CTT):\n",
    "    Dl = [l[i]*(l[i]+1)*CTT[i]/((2*math.pi)*(2.7255*10**6)**2) for i in range(len(l))]\n",
    "    return Dl\n",
    "#-----------------------------------------------------------------------------------------------------------------------\n",
    "#Normalization\n",
    "#-----------------------------------------------------------------------------------------------------------------------\n",
    "fig = plt.figure(figsize=(8,6))\n",
    "normalize = Normalization()\n",
    "normalize.adapt(cls_full_dataset)\n",
    "normalized_data = normalize(cls_full_dataset)"
   ]
  },
  {
   "cell_type": "code",
   "execution_count": 12,
   "metadata": {},
   "outputs": [],
   "source": [
    "#Train_test_split\n",
    "from sklearn.model_selection import train_test_split\n",
    "normalized_data_numpy = normalized_data.numpy()\n",
    "X_train, X_test, y_train, y_test = train_test_split(normalized_data_numpy, dataset_class, test_size=0.3, random_state=42)\n",
    "#Training and validation split with fixed random seed\n",
    "X_train, X_val, y_train, y_val = train_test_split(X_train, y_train, test_size=0.2, random_state=42)"
   ]
  },
  {
   "cell_type": "markdown",
   "metadata": {},
   "source": [
    "## NN architecture definition"
   ]
  },
  {
   "cell_type": "code",
   "execution_count": 13,
   "metadata": {},
   "outputs": [
    {
     "name": "stdout",
     "output_type": "stream",
     "text": [
      "Model: \"Angular_PS_NN\"\n",
      "_________________________________________________________________\n",
      " Layer (type)                Output Shape              Param #   \n",
      "=================================================================\n",
      " Cells_input (InputLayer)    [(32, 83)]                0         \n",
      "                                                                 \n",
      " hidden_layer (Dense)        (32, 32)                  2688      \n",
      "                                                                 \n",
      " dropout_1 (Dropout)         (32, 32)                  0         \n",
      "                                                                 \n",
      " output_layer (Dense)        (32, 1)                   33        \n",
      "                                                                 \n",
      "=================================================================\n",
      "Total params: 2721 (10.63 KB)\n",
      "Trainable params: 2721 (10.63 KB)\n",
      "Non-trainable params: 0 (0.00 Byte)\n",
      "_________________________________________________________________\n"
     ]
    }
   ],
   "source": [
    "from tensorflow.keras import layers, models, Input\n",
    "\n",
    "#Input shape with a batch size of 32 and 83 Cells datapoints(features)\n",
    "input_shape = (32, 83)\n",
    "inputs = Input(shape=(83,), batch_size=32, name='Cells_input')\n",
    "\n",
    "#Architecture\n",
    "hidden_layer = layers.Dense(32, activation='relu', name='hidden_layer')(inputs)\n",
    "dropout_layer = layers.Dropout(0.2)(hidden_layer)\n",
    "outputs = layers.Dense(1, activation=\"sigmoid\", name='output_layer')(dropout_layer)\n",
    "model = models.Model(inputs=inputs, outputs=outputs, name='Angular_PS_NN')\n",
    "\n",
    "#Compile model:\n",
    "model.compile(optimizer=Adam(learning_rate=0.0002), loss='binary_crossentropy', metrics=['accuracy'])\n",
    "\n",
    "model.summary()"
   ]
  },
  {
   "cell_type": "code",
   "execution_count": 14,
   "metadata": {},
   "outputs": [
    {
     "data": {
      "image/png": "[encoded data removed]",
      "text/plain": [
       "<IPython.core.display.Image object>"
      ]
     },
     "execution_count": 14,
     "metadata": {},
     "output_type": "execute_result"
    }
   ],
   "source": [
    "from tensorflow.keras.utils import plot_model\n",
    "import pydot\n",
    "#for this to work pip install pydot\n",
    "#install graphviz.exe for windows: https://graphviz.gitlab.io/download/\n",
    "\n",
    "plot_model(model, to_file='./figures_MoG/model_plot.png', show_shapes=True, show_layer_names=True, show_dtype=False, rankdir='TB', expand_nested=True, dpi=96, layer_range=None)"
   ]
  },
  {
   "cell_type": "code",
   "execution_count": 15,
   "metadata": {},
   "outputs": [
    {
     "name": "stderr",
     "output_type": "stream",
     "text": [
      "c:\\Users\\indi_\\AppData\\Local\\Programs\\Python\\Python311\\Lib\\site-packages\\keras\\src\\engine\\training.py:3079: UserWarning: You are saving your model as an HDF5 file via `model.save()`. This file format is considered legacy. We recommend using instead the native Keras format, e.g. `model.save('my_model.keras')`.\n",
      "  saving_api.save_model(\n"
     ]
    }
   ],
   "source": [
    "#Save the model:\n",
    "model.save('./figures_feature/Planck_NN_model.h5')"
   ]
  },
  {
   "cell_type": "code",
   "execution_count": 16,
   "metadata": {},
   "outputs": [
    {
     "name": "stdout",
     "output_type": "stream",
     "text": [
      "Serving './figures/Planck_NN_model.h5' at http://localhost:8080\n"
     ]
    },
    {
     "data": {
      "text/plain": [
       "('localhost', 8080)"
      ]
     },
     "execution_count": 16,
     "metadata": {},
     "output_type": "execute_result"
    }
   ],
   "source": [
    "import netron\n",
    "\n",
    "netron.start('./figures_feature/Planck_NN_model.h5') #Architecture displayed in server"
   ]
  }
 ],
 "metadata": {
  "kernelspec": {
   "display_name": "Python 3",
   "language": "python",
   "name": "python3"
  },
  "language_info": {
   "codemirror_mode": {
    "name": "ipython",
    "version": 3
   },
   "file_extension": ".py",
   "mimetype": "text/x-python",
   "name": "python",
   "nbconvert_exporter": "python",
   "pygments_lexer": "ipython3",
   "version": "3.11.6"
  }
 },
 "nbformat": 4,
 "nbformat_minor": 2
}
